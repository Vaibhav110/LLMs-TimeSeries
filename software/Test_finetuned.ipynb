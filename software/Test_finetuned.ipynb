{
 "cells": [
  {
   "cell_type": "code",
   "execution_count": 1,
   "metadata": {},
   "outputs": [
    {
     "name": "stderr",
     "output_type": "stream",
     "text": [
      "/home/vaibhav/miniconda3/envs/vai_llama/lib/python3.11/site-packages/tqdm/auto.py:21: TqdmWarning: IProgress not found. Please update jupyter and ipywidgets. See https://ipywidgets.readthedocs.io/en/stable/user_install.html\n",
      "  from .autonotebook import tqdm as notebook_tqdm\n"
     ]
    }
   ],
   "source": [
    "from transformers import AutoProcessor, BitsAndBytesConfig, LlavaNextForConditionalGeneration\n",
    "import torch\n",
    "from datasets import load_dataset\n",
    "from pprint import pprint"
   ]
  },
  {
   "cell_type": "code",
   "execution_count": 2,
   "metadata": {},
   "outputs": [
    {
     "name": "stderr",
     "output_type": "stream",
     "text": [
      "Some kwargs in processor config are unused and will not have any effect: num_additional_image_tokens. \n",
      "`low_cpu_mem_usage` was None, now default to True since model is quantized.\n",
      "Loading checkpoint shards: 100%|██████████| 4/4 [00:02<00:00,  1.57it/s]\n"
     ]
    }
   ],
   "source": [
    "MODEL_ID = \"llava-hf/llava-v1.6-mistral-7b-hf\"\n",
    "processor = AutoProcessor.from_pretrained(MODEL_ID)\n",
    "\n",
    "# Define quantization config\n",
    "quantization_config = BitsAndBytesConfig(\n",
    "    load_in_4bit=True, bnb_4bit_quant_type=\"nf4\", bnb_4bit_compute_dtype=torch.float16\n",
    ")\n",
    "\n",
    "# Load the base model with adapters on top\n",
    "model = LlavaNextForConditionalGeneration.from_pretrained(\n",
    "    \"/home/vaibhav/LLMs-TimeSeries/software/Checkpoint_img_model_v3\",\n",
    "    # MODEL_ID,\n",
    "    torch_dtype=torch.float16,\n",
    "    quantization_config=quantization_config,\n",
    ")"
   ]
  },
  {
   "cell_type": "code",
   "execution_count": 3,
   "metadata": {},
   "outputs": [
    {
     "name": "stdout",
     "output_type": "stream",
     "text": [
      "Dataset({\n",
      "    features: ['id', 'image_path', 'query', 'answers', 'image'],\n",
      "    num_rows: 24\n",
      "})\n",
      "24\n"
     ]
    }
   ],
   "source": [
    "dataset = load_dataset(\"VaibhavMal/AirQualty_imageConv\", split=\"test\")\n",
    "print(dataset)\n",
    "print(len(dataset))"
   ]
  },
  {
   "cell_type": "code",
   "execution_count": 4,
   "metadata": {},
   "outputs": [],
   "source": [
    "import re\n",
    "\n",
    "def Extract_num(llm_output):\n",
    "    match = re.search(r'\\[\\\\INST\\]\\s*(\\d+)', llm_output)\n",
    "    # match1 = re.search(r'\\[\\INST\\]\\s*(\\d+)', llm_output)\n",
    "\n",
    "    # Extract the number if a match is found\n",
    "    if match:\n",
    "        number = int(match.group(1))\n",
    "        print(f\"Extracted number: {number}\")\n",
    "        return int(number)\n",
    "    else:\n",
    "        print(f\"Not Found\")\n",
    "        return 0"
   ]
  },
  {
   "cell_type": "code",
   "execution_count": 5,
   "metadata": {},
   "outputs": [
    {
     "name": "stderr",
     "output_type": "stream",
     "text": [
      "You may have used the wrong order for inputs. `images` should be passed before `text`. The `images` and `text` inputs will be swapped. This behavior will be deprecated in transformers v4.47.\n",
      "Setting `pad_token_id` to `eos_token_id`:None for open-end generation.\n",
      "Expanding inputs for image tokens in LLaVa-NeXT should be done in processing. Please add `patch_size` and `vision_feature_select_strategy` to the model's processing config or set directly with `processor.patch_size = {{patch_size}}` and processor.vision_feature_select_strategy = {{vision_feature_select_strategy}}`. Using processors without these attributes in the config is deprecated and will throw an error in v4.47.\n",
      "Setting `pad_token_id` to `eos_token_id`:None for open-end generation.\n"
     ]
    },
    {
     "name": "stdout",
     "output_type": "stream",
     "text": [
      "[INST]  \n",
      "Analyze the provided Markov Transition Field of Nitrogen Oxide night time data. Average value on those four nights is 1000, 1272, 1667 and 1545. Estimate the expected average Nitrogen Oxide value for the subsequent night. [\\INST] 1562 \\]\n",
      "Extracted number: 1562\n"
     ]
    },
    {
     "name": "stderr",
     "output_type": "stream",
     "text": [
      "Setting `pad_token_id` to `eos_token_id`:None for open-end generation.\n"
     ]
    },
    {
     "name": "stdout",
     "output_type": "stream",
     "text": [
      "[INST]  \n",
      "Analyze the provided Markov Transition Field of Nitrogen Oxide four day time data. Average value on those four days is 1689, 1669, 1636 and 1884. Estimate the expected average Nitrogen Oxide value for the subsequent day. [\\INST] 1884\\* \n",
      "Extracted number: 1884\n"
     ]
    },
    {
     "name": "stderr",
     "output_type": "stream",
     "text": [
      "Setting `pad_token_id` to `eos_token_id`:None for open-end generation.\n"
     ]
    },
    {
     "name": "stdout",
     "output_type": "stream",
     "text": [
      "[INST]  \n",
      "Analyze the provided Markov Transition Field of Nitrogen Oxide night time data. Average value on those four nights is 694, 873, 1152 and 1149. Estimate the expected average Nitrogen Oxide value for the subsequent night. [\\INST] 1148 \n",
      "Extracted number: 1148\n"
     ]
    },
    {
     "name": "stderr",
     "output_type": "stream",
     "text": [
      "Setting `pad_token_id` to `eos_token_id`:None for open-end generation.\n"
     ]
    },
    {
     "name": "stdout",
     "output_type": "stream",
     "text": [
      "[INST]  \n",
      "Analyze the provided Markov Transition Field of Nitrogen Oxide night time data. Average value on those four nights is 1082, 1269, 1346 and 1279. Estimate the expected average Nitrogen Oxide value for the subsequent night. [\\INST] 1281\\n] \n",
      "Extracted number: 1281\n"
     ]
    },
    {
     "name": "stderr",
     "output_type": "stream",
     "text": [
      "Setting `pad_token_id` to `eos_token_id`:None for open-end generation.\n"
     ]
    },
    {
     "name": "stdout",
     "output_type": "stream",
     "text": [
      "[INST]  \n",
      "Analyze the provided Markov Transition Field of Nitrogen Oxide four day time data. Average value on those four days is 1444, 1285, 1447 and 1777. Estimate the expected average Nitrogen Oxide value for the subsequent day. [\\INST] 1811 \n",
      "Extracted number: 1811\n"
     ]
    },
    {
     "name": "stderr",
     "output_type": "stream",
     "text": [
      "Setting `pad_token_id` to `eos_token_id`:None for open-end generation.\n"
     ]
    },
    {
     "name": "stdout",
     "output_type": "stream",
     "text": [
      "[INST]  \n",
      "Analyze the provided Markov Transition Field of Nitrogen Oxide night time data. Average value on those four nights is 1640, 1695, 1521 and 1706. Estimate the expected average Nitrogen Oxide value for the subsequent night. [\\INST] 1695\\* \n",
      "Extracted number: 1695\n"
     ]
    },
    {
     "name": "stderr",
     "output_type": "stream",
     "text": [
      "Setting `pad_token_id` to `eos_token_id`:None for open-end generation.\n"
     ]
    },
    {
     "name": "stdout",
     "output_type": "stream",
     "text": [
      "[INST]  \n",
      "Analyze the provided Markov Transition Field of Nitrogen Oxide four day time data. Average value on those four days is 1559, 1617, 1649 and 1336. Estimate the expected average Nitrogen Oxide value for the subsequent day. [\\INST] 1336\\* \n",
      "Extracted number: 1336\n"
     ]
    },
    {
     "name": "stderr",
     "output_type": "stream",
     "text": [
      "Setting `pad_token_id` to `eos_token_id`:None for open-end generation.\n"
     ]
    },
    {
     "name": "stdout",
     "output_type": "stream",
     "text": [
      "[INST]  \n",
      "Analyze the provided Markov Transition Field of Nitrogen Oxide four day time data. Average value on those four days is 1613, 1631, 1719 and 1376. Estimate the expected average Nitrogen Oxide value for the subsequent day. [\\INST] 1381\\n] \n",
      "Extracted number: 1381\n"
     ]
    },
    {
     "name": "stderr",
     "output_type": "stream",
     "text": [
      "Setting `pad_token_id` to `eos_token_id`:None for open-end generation.\n"
     ]
    },
    {
     "name": "stdout",
     "output_type": "stream",
     "text": [
      "[INST]  \n",
      "Analyze the provided Markov Transition Field of Nitrogen Oxide four day time data. Average value on those four days is 2016, 1909, 1915 and 1865. Estimate the expected average Nitrogen Oxide value for the subsequent day. [\\INST] 1865\\* \n",
      "Extracted number: 1865\n"
     ]
    },
    {
     "name": "stderr",
     "output_type": "stream",
     "text": [
      "Setting `pad_token_id` to `eos_token_id`:None for open-end generation.\n"
     ]
    },
    {
     "name": "stdout",
     "output_type": "stream",
     "text": [
      "[INST]  \n",
      "Analyze the provided Markov Transition Field of Nitrogen Oxide four day time data. Average value on those four days is 1499, 1856, 1911 and 1987. Estimate the expected average Nitrogen Oxide value for the subsequent day. [\\INST] 1987\\n] \n",
      "Extracted number: 1987\n"
     ]
    },
    {
     "name": "stderr",
     "output_type": "stream",
     "text": [
      "Setting `pad_token_id` to `eos_token_id`:None for open-end generation.\n"
     ]
    },
    {
     "name": "stdout",
     "output_type": "stream",
     "text": [
      "[INST]  \n",
      "Analyze the provided Markov Transition Field of Nitrogen Oxide night time data. Average value on those four nights is 1502, 1423, 1421 and 1576. Estimate the expected average Nitrogen Oxide value for the subsequent night. [\\INST] 1576\\n] \\n\\n\\n\\n\\n\\n\\n\\ 1576\\n \n",
      "Extracted number: 1576\n"
     ]
    },
    {
     "name": "stderr",
     "output_type": "stream",
     "text": [
      "Setting `pad_token_id` to `eos_token_id`:None for open-end generation.\n"
     ]
    },
    {
     "name": "stdout",
     "output_type": "stream",
     "text": [
      "[INST]  \n",
      "Analyze the provided Markov Transition Field of Nitrogen Oxide night time data. Average value on those four nights is 1358, 1384, 1461 and 1307. Estimate the expected average Nitrogen Oxide value for the subsequent night. [\\INST] 1311 \\n] \n",
      "Extracted number: 1311\n"
     ]
    },
    {
     "name": "stderr",
     "output_type": "stream",
     "text": [
      "Setting `pad_token_id` to `eos_token_id`:None for open-end generation.\n"
     ]
    },
    {
     "name": "stdout",
     "output_type": "stream",
     "text": [
      "[INST]  \n",
      "Analyze the provided Markov Transition Field of Nitrogen Oxide night time data. Average value on those four nights is 1290, 1269, 1287 and 1118. Estimate the expected average Nitrogen Oxide value for the subsequent night. [\\INST] 1111] \\} \\} \\} \\} \\} \\} \\} \\} \\} \\} \\} \\} \\} \\} \\} \\} \\} \\} \\} \\} \\} \\} \\} \\} \\ \n",
      "Extracted number: 1111\n"
     ]
    },
    {
     "name": "stderr",
     "output_type": "stream",
     "text": [
      "Setting `pad_token_id` to `eos_token_id`:None for open-end generation.\n"
     ]
    },
    {
     "name": "stdout",
     "output_type": "stream",
     "text": [
      "[INST]  \n",
      "Analyze the provided Markov Transition Field of Nitrogen Oxide four day time data. Average value on those four days is 1954, 1748, 1661 and 1537. Estimate the expected average Nitrogen Oxide value for the subsequent day. [\\INST] 1511\\] \\n \n",
      "Extracted number: 1511\n"
     ]
    },
    {
     "name": "stderr",
     "output_type": "stream",
     "text": [
      "Setting `pad_token_id` to `eos_token_id`:None for open-end generation.\n"
     ]
    },
    {
     "name": "stdout",
     "output_type": "stream",
     "text": [
      "[INST]  \n",
      "Analyze the provided Markov Transition Field of Nitrogen Oxide four day time data. Average value on those four days is 983, 1394, 1794 and 1491. Estimate the expected average Nitrogen Oxide value for the subsequent day. [\\INST] 1491\\* \n",
      "Extracted number: 1491\n"
     ]
    },
    {
     "name": "stderr",
     "output_type": "stream",
     "text": [
      "Setting `pad_token_id` to `eos_token_id`:None for open-end generation.\n"
     ]
    },
    {
     "name": "stdout",
     "output_type": "stream",
     "text": [
      "[INST]  \n",
      "Analyze the provided Markov Transition Field of Nitrogen Oxide night time data. Average value on those four nights is 1593, 1584, 1465 and 1395. Estimate the expected average Nitrogen Oxide value for the subsequent night. [\\INST] 1391\\n] \\n\\n\\n\\n\\n 1391 1391 1391 1391 1391 1391 1391 1391 1391 1391 1391 1391 1391 1391 1391 1391 139 1391 1391 13 1391 139 1391 13 1391 13 139 139 13 1 1 1\n",
      "Extracted number: 1391\n"
     ]
    },
    {
     "name": "stderr",
     "output_type": "stream",
     "text": [
      "Setting `pad_token_id` to `eos_token_id`:None for open-end generation.\n"
     ]
    },
    {
     "name": "stdout",
     "output_type": "stream",
     "text": [
      "[INST]  \n",
      "Analyze the provided Markov Transition Field of Nitrogen Oxide four day time data. Average value on those four days is 864, 841, 1052 and 1275. Estimate the expected average Nitrogen Oxide value for the subsequent day. [\\INST] 1311 \n",
      "Extracted number: 1311\n"
     ]
    },
    {
     "name": "stderr",
     "output_type": "stream",
     "text": [
      "Setting `pad_token_id` to `eos_token_id`:None for open-end generation.\n"
     ]
    },
    {
     "name": "stdout",
     "output_type": "stream",
     "text": [
      "[INST]  \n",
      "Analyze the provided Markov Transition Field of Nitrogen Oxide four day time data. Average value on those four days is 1830, 1872, 1547 and 1531. Estimate the expected average Nitrogen Oxide value for the subsequent day. [\\INST] 1531\\* \n",
      "Extracted number: 1531\n"
     ]
    },
    {
     "name": "stderr",
     "output_type": "stream",
     "text": [
      "Setting `pad_token_id` to `eos_token_id`:None for open-end generation.\n"
     ]
    },
    {
     "name": "stdout",
     "output_type": "stream",
     "text": [
      "[INST]  \n",
      "Analyze the provided Markov Transition Field of Nitrogen Oxide four day time data. Average value on those four days is 1887, 1795, 1778 and 1960. Estimate the expected average Nitrogen Oxide value for the subsequent day. [\\INST] 1861\\] \n",
      "Extracted number: 1861\n"
     ]
    },
    {
     "name": "stderr",
     "output_type": "stream",
     "text": [
      "Setting `pad_token_id` to `eos_token_id`:None for open-end generation.\n"
     ]
    },
    {
     "name": "stdout",
     "output_type": "stream",
     "text": [
      "[INST]  \n",
      "Analyze the provided Markov Transition Field of Nitrogen Oxide four day time data. Average value on those four days is 1189, 1188, 1007 and 1075. Estimate the expected average Nitrogen Oxide value for the subsequent day. [\\INST] 1075\\* \n",
      "Extracted number: 1075\n"
     ]
    },
    {
     "name": "stderr",
     "output_type": "stream",
     "text": [
      "Setting `pad_token_id` to `eos_token_id`:None for open-end generation.\n"
     ]
    },
    {
     "name": "stdout",
     "output_type": "stream",
     "text": [
      "[INST]  \n",
      "Analyze the provided Markov Transition Field of Nitrogen Oxide four day time data. Average value on those four days is 1579, 1876, 1867 and 1856. Estimate the expected average Nitrogen Oxide value for the subsequent day. [\\INST] 1856\\* \n",
      "Extracted number: 1856\n"
     ]
    },
    {
     "name": "stderr",
     "output_type": "stream",
     "text": [
      "Setting `pad_token_id` to `eos_token_id`:None for open-end generation.\n"
     ]
    },
    {
     "name": "stdout",
     "output_type": "stream",
     "text": [
      "[INST]  \n",
      "Analyze the provided Markov Transition Field of Nitrogen Oxide four day time data. Average value on those four days is 1181, 1407, 1673 and 1914. Estimate the expected average Nitrogen Oxide value for the subsequent day. [\\INST] 1914\\* \n",
      "Extracted number: 1914\n"
     ]
    },
    {
     "name": "stderr",
     "output_type": "stream",
     "text": [
      "Setting `pad_token_id` to `eos_token_id`:None for open-end generation.\n"
     ]
    },
    {
     "name": "stdout",
     "output_type": "stream",
     "text": [
      "[INST]  \n",
      "Analyze the provided Markov Transition Field of Nitrogen Oxide night time data. Average value on those four nights is 1590, 1654, 1588 and 1643. Estimate the expected average Nitrogen Oxide value for the subsequent night. [\\INST] 1642\\*  ]] \n",
      "Extracted number: 1642\n",
      "[INST]  \n",
      "Analyze the provided Markov Transition Field of Nitrogen Oxide night time data. Average value on those four nights is 1572, 1521, 1304 and 1250. Estimate the expected average Nitrogen Oxide value for the subsequent night. [\\INST] 1250\\* \n",
      "Extracted number: 1250\n"
     ]
    }
   ],
   "source": [
    "count = 0\n",
    "ground_truth = []\n",
    "output_result = []\n",
    "\n",
    "for i in range(len(dataset)):\n",
    "    image = dataset[i][\"image\"]\n",
    "    en_query = dataset[i][\"query\"]\n",
    "    ground_truth.append( int(dataset[i][\"answers\"]) )\n",
    "    # print(en_query)\n",
    "\n",
    "    prompt = f\"[INST] <image>\\n{en_query} [\\INST]\"\n",
    "    max_output_token = 4096\n",
    "    inputs = processor(prompt, image, return_tensors=\"pt\").to(\"cuda:0\")\n",
    "    output = model.generate(**inputs, max_new_tokens=max_output_token)\n",
    "    response = processor.decode(output[0], skip_special_tokens=True)\n",
    "    print(response)\n",
    "    output_result.append( Extract_num(response) )\n",
    "    # if output_result[count] == 0:\n",
    "    #     break\n",
    "    # else:\n",
    "    #     count = count + 1\n",
    "\n",
    "    # mae_error = mae_error + abs(ground_truth - output)\n",
    "    # print(response)\n",
    "\n",
    "# if count == len(dataset):\n",
    "#     mae_error = mae_error / len(dataset)\n",
    "# else:\n",
    "#     print(\"error at count: \" + str(count))\n",
    "#     print(response)\n"
   ]
  },
  {
   "cell_type": "code",
   "execution_count": 6,
   "metadata": {},
   "outputs": [
    {
     "name": "stdout",
     "output_type": "stream",
     "text": [
      "[1294, 1892, 1117, 895, 1357, 1574, 1300, 1172, 1574, 1739, 1652, 1292, 961, 1459, 1349, 1358, 1212, 1698, 1711, 1005, 1916, 1977, 1624, 1382]\n",
      "[1562, 1884, 1148, 1281, 1811, 1695, 1336, 1381, 1865, 1987, 1576, 1311, 1111, 1511, 1491, 1391, 1311, 1531, 1861, 1075, 1856, 1914, 1642, 1250]\n",
      "True\n"
     ]
    }
   ],
   "source": [
    "print(ground_truth)\n",
    "print(output_result)\n",
    "print(len(ground_truth) == len(dataset))"
   ]
  },
  {
   "cell_type": "code",
   "execution_count": 7,
   "metadata": {},
   "outputs": [
    {
     "name": "stdout",
     "output_type": "stream",
     "text": [
      "136.79166666666666\n",
      "179.90333052318218\n"
     ]
    }
   ],
   "source": [
    "import math\n",
    "\n",
    "mae_error = 0\n",
    "rmse_error = 0\n",
    "count = 0\n",
    "\n",
    "for count in range(len(output_result)):\n",
    "    mae_error = mae_error + abs(ground_truth[count] - output_result[count] )\n",
    "    rmse_error = rmse_error + pow( (ground_truth[count] - output_result[count] ) , 2)\n",
    "    count = count + 1\n",
    "\n",
    "mae_error = mae_error / len(dataset)\n",
    "rmse_error = math.sqrt(rmse_error / len(dataset))\n",
    "# if count == len(dataset):\n",
    "#     mae_error = mae_error / len(dataset)\n",
    "# else:\n",
    "#     print(\"error at count: \" + str(count))\n",
    "#     print(response)\n",
    "print(mae_error)\n",
    "print(rmse_error)\n",
    "\n"
   ]
  },
  {
   "cell_type": "code",
   "execution_count": null,
   "metadata": {},
   "outputs": [],
   "source": [
    "image = dataset[3][\"image\"]\n",
    "en_query = dataset[3][\"query\"]\n",
    "\n",
    "prompt = f\"[INST] <image>\\n{en_query} [\\INST]\"\n",
    "max_output_token = 4096\n",
    "inputs = processor(prompt, image, return_tensors=\"pt\").to(\"cuda:0\")\n",
    "output = model.generate(**inputs, max_new_tokens=max_output_token)\n",
    "response = processor.decode(output[0], skip_special_tokens=True)\n",
    "response"
   ]
  },
  {
   "cell_type": "code",
   "execution_count": null,
   "metadata": {},
   "outputs": [],
   "source": [
    "image = dataset[0][\"image\"]\n",
    "en_query = \"Analyze the image and predict what kind of time series transformation it could have been?\"\n",
    "print(en_query)\n",
    "\n",
    "prompt = f\"[INST] <image>\\n{en_query} [\\INST]\"\n",
    "max_output_token = 4096\n",
    "inputs = processor(prompt, image, return_tensors=\"pt\").to(\"cuda:0\")\n",
    "output = model.generate(**inputs, max_new_tokens=max_output_token)\n",
    "response = processor.decode(output[0], skip_special_tokens=True)\n",
    "response"
   ]
  }
 ],
 "metadata": {
  "kernelspec": {
   "display_name": "vai_llama",
   "language": "python",
   "name": "python3"
  },
  "language_info": {
   "codemirror_mode": {
    "name": "ipython",
    "version": 3
   },
   "file_extension": ".py",
   "mimetype": "text/x-python",
   "name": "python",
   "nbconvert_exporter": "python",
   "pygments_lexer": "ipython3",
   "version": "3.11.10"
  }
 },
 "nbformat": 4,
 "nbformat_minor": 2
}

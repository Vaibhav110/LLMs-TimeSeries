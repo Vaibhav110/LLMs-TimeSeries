{
 "cells": [
  {
   "cell_type": "code",
   "execution_count": 1,
   "metadata": {},
   "outputs": [
    {
     "name": "stderr",
     "output_type": "stream",
     "text": [
      "/home/vaibhav/miniconda3/envs/vai_llama/lib/python3.11/site-packages/tqdm/auto.py:21: TqdmWarning: IProgress not found. Please update jupyter and ipywidgets. See https://ipywidgets.readthedocs.io/en/stable/user_install.html\n",
      "  from .autonotebook import tqdm as notebook_tqdm\n"
     ]
    }
   ],
   "source": [
    "from transformers import AutoProcessor, BitsAndBytesConfig, LlavaNextForConditionalGeneration\n",
    "import torch\n",
    "from datasets import load_dataset\n",
    "from pprint import pprint"
   ]
  },
  {
   "cell_type": "code",
   "execution_count": 14,
   "metadata": {},
   "outputs": [
    {
     "name": "stderr",
     "output_type": "stream",
     "text": [
      "Some kwargs in processor config are unused and will not have any effect: num_additional_image_tokens. \n",
      "`low_cpu_mem_usage` was None, now default to True since model is quantized.\n",
      "Loading checkpoint shards: 100%|██████████| 4/4 [00:04<00:00,  1.02s/it]\n"
     ]
    }
   ],
   "source": [
    "MODEL_ID = \"llava-hf/llava-v1.6-mistral-7b-hf\"\n",
    "processor = AutoProcessor.from_pretrained(MODEL_ID)\n",
    "\n",
    "# Define quantization config\n",
    "quantization_config = BitsAndBytesConfig(\n",
    "    load_in_4bit=True, bnb_4bit_quant_type=\"nf4\", bnb_4bit_compute_dtype=torch.float16\n",
    ")\n",
    "\n",
    "# Load the base model with adapters on top\n",
    "model = LlavaNextForConditionalGeneration.from_pretrained(\n",
    "    \"/home/vaibhav/LLMs-TimeSeries/software/Checkpoint_img_model/\",\n",
    "    # MODEL_ID,\n",
    "    torch_dtype=torch.float16,\n",
    "    quantization_config=quantization_config,\n",
    ")"
   ]
  },
  {
   "cell_type": "code",
   "execution_count": 15,
   "metadata": {},
   "outputs": [
    {
     "name": "stdout",
     "output_type": "stream",
     "text": [
      "Dataset({\n",
      "    features: ['id', 'image_path', 'query', 'answers', 'image'],\n",
      "    num_rows: 31\n",
      "})\n"
     ]
    }
   ],
   "source": [
    "dataset = load_dataset(\"VaibhavMal/AirQualty_imageConv\", split=\"test\")\n",
    "print(dataset)"
   ]
  },
  {
   "cell_type": "code",
   "execution_count": 16,
   "metadata": {},
   "outputs": [
    {
     "name": "stderr",
     "output_type": "stream",
     "text": [
      "Setting `pad_token_id` to `eos_token_id`:None for open-end generation.\n"
     ]
    },
    {
     "name": "stdout",
     "output_type": "stream",
     "text": [
      "Analyze the provided Scalogram of Nitrogen Oxide day time data. Estimate the expected average C0 value for the subsequent day.\n"
     ]
    },
    {
     "data": {
      "text/plain": [
       "'[INST]  \\nAnalyze the provided Scalogram of Nitrogen Oxide day time data. Estimate the expected average C0 value for the subsequent day. [\\\\INST] 122222222222222222222222222222222222222222222222222222222222222\\n\\n- \\n\\n- \\n\\n- \\n\\n- \\n\\n- \\n\\n- \\n\\n- \\n\\n- \\n\\n- \\n\\n- \\n\\n- \\n\\n- \\n\\n- \\n\\n- \\n\\n- \\n\\n- \\n\\n- \\n\\n- \\n\\n- \\n\\n- \\n\\n- \\n\\n- \\n\\n- \\n\\n- \\n\\n- \\n\\n- \\n\\n- \\n\\n- \\n\\n- \\n '"
      ]
     },
     "execution_count": 16,
     "metadata": {},
     "output_type": "execute_result"
    }
   ],
   "source": [
    "image = dataset[0][\"image\"]\n",
    "en_query = dataset[0][\"query\"]\n",
    "print(en_query)\n",
    "\n",
    "prompt = f\"[INST] <image>\\n{en_query} [\\INST]\"\n",
    "max_output_token = 4096\n",
    "inputs = processor(prompt, image, return_tensors=\"pt\").to(\"cuda:0\")\n",
    "output = model.generate(**inputs, max_new_tokens=max_output_token)\n",
    "response = processor.decode(output[0], skip_special_tokens=True)\n",
    "response\n"
   ]
  },
  {
   "cell_type": "code",
   "execution_count": 17,
   "metadata": {},
   "outputs": [
    {
     "name": "stderr",
     "output_type": "stream",
     "text": [
      "Setting `pad_token_id` to `eos_token_id`:None for open-end generation.\n"
     ]
    },
    {
     "name": "stdout",
     "output_type": "stream",
     "text": [
      "Analyze the image and predict what kind of time series transformation it could have been?\n"
     ]
    },
    {
     "data": {
      "text/plain": [
       "'[INST]  \\nAnalyze the image and predict what kind of time series transformation it could have been? [\\\\INST] 11111111111111111111111111111111111111111111111111111 \\n\\n- \\n\\n- \\n\\n- \\n\\n- \\n\\n- \\n\\n- \\n\\n- \\n\\n- \\n\\n- \\n '"
      ]
     },
     "execution_count": 17,
     "metadata": {},
     "output_type": "execute_result"
    }
   ],
   "source": [
    "image = dataset[0][\"image\"]\n",
    "en_query = \"Analyze the image and predict what kind of time series transformation it could have been?\"\n",
    "print(en_query)\n",
    "\n",
    "prompt = f\"[INST] <image>\\n{en_query} [\\INST]\"\n",
    "max_output_token = 4096\n",
    "inputs = processor(prompt, image, return_tensors=\"pt\").to(\"cuda:0\")\n",
    "output = model.generate(**inputs, max_new_tokens=max_output_token)\n",
    "response = processor.decode(output[0], skip_special_tokens=True)\n",
    "response"
   ]
  }
 ],
 "metadata": {
  "kernelspec": {
   "display_name": "vai_llama",
   "language": "python",
   "name": "python3"
  },
  "language_info": {
   "codemirror_mode": {
    "name": "ipython",
    "version": 3
   },
   "file_extension": ".py",
   "mimetype": "text/x-python",
   "name": "python",
   "nbconvert_exporter": "python",
   "pygments_lexer": "ipython3",
   "version": "3.11.10"
  }
 },
 "nbformat": 4,
 "nbformat_minor": 2
}
